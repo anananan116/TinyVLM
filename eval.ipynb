{
 "cells": [
  {
   "cell_type": "code",
   "execution_count": null,
   "metadata": {},
   "outputs": [],
   "source": [
    "from datasets import load_dataset\n",
    "from torch.utils.data import DataLoader\n",
    "from transformers import AutoModelForCausalLM, AutoTokenizer\n",
    "from PIL import Image\n",
    "import requests\n",
    "import torch \n",
    "from tqdm import tqdm\n",
    "\n",
    "# model = AutoModelForCausalLM.from_pretrained(\n",
    "#     \"anananan116/TinyVLM\",\n",
    "#     trust_remote_code = True,\n",
    "#     torch_dtype=torch.float16,\n",
    "#     ).to('cuda').eval()\n",
    "# tokenizer = AutoTokenizer.from_pretrained(\"anananan116/TinyVLM\")\n",
    "ds = load_dataset(\"darkyarding/MME\")"
   ]
  },
  {
   "cell_type": "code",
   "execution_count": null,
   "metadata": {},
   "outputs": [],
   "source": [
    "ds['test'][0]"
   ]
  },
  {
   "cell_type": "code",
   "execution_count": null,
   "metadata": {},
   "outputs": [],
   "source": [
    "from src.model.llama import get_model_and_tokenizer\n",
    "import json\n",
    "from PIL import Image\n",
    "import torch\n",
    "\n",
    "model_args = {}\n",
    "with open(\"configs/Specialtokens/default.json\") as f:\n",
    "    special_token_map = json.load(f)\n",
    "model_args[\"pretrained_model\"] = \"results/checkpoint-21000\"\n",
    "additional_tokens_dict = {x['type']: x['token'] for x in special_token_map['added_tokens']}\n",
    "model, tokenizer, _, _ = get_model_and_tokenizer(model_args, additional_tokens_dict, load_vision_model=True)\n",
    "model = model.to(torch.float16)"
   ]
  },
  {
   "cell_type": "code",
   "execution_count": null,
   "metadata": {},
   "outputs": [],
   "source": [
    "device = torch.device('cuda')\n",
    "model = model.to(device)"
   ]
  },
  {
   "cell_type": "code",
   "execution_count": null,
   "metadata": {},
   "outputs": [],
   "source": [
    "class Collator:\n",
    "    def __init__(self):\n",
    "        \"\"\"\n",
    "        Initialize the collator with any necessary parameters\n",
    "        \"\"\"\n",
    "        pass\n",
    "        \n",
    "    def __call__(self, batch):\n",
    "        \"\"\"\n",
    "        Collate a batch of samples into a format suitable for the model\n",
    "        \n",
    "        Args:\n",
    "            batch: List of dictionaries containing the samples\n",
    "            \n",
    "        Returns:\n",
    "            Dictionary with batched data\n",
    "        \"\"\"\n",
    "        # Initialize lists to store batch items\n",
    "        question_ids = []\n",
    "        images = []\n",
    "        questions = []\n",
    "        answers = []\n",
    "        categories = []\n",
    "        \n",
    "        # Collect items from the batch\n",
    "        for item in batch:\n",
    "            question_ids.append(item['question_id'])\n",
    "            images.append(item['image'])\n",
    "            questions.append(item['question'])\n",
    "            answers.append(item['answer'])\n",
    "            categories.append(item['category'])\n",
    "            \n",
    "        # Create the batched dictionary\n",
    "        batched = {\n",
    "            'question_id': question_ids,\n",
    "            'image': images,  # Keep as list of PIL images\n",
    "            'question': questions,\n",
    "            'answer': answers,\n",
    "            'category': categories\n",
    "        }\n",
    "        \n",
    "        return batched"
   ]
  },
  {
   "cell_type": "code",
   "execution_count": null,
   "metadata": {},
   "outputs": [],
   "source": [
    "answers = []\n",
    "dataloader = DataLoader(ds['test'], batch_size=16, shuffle=False, collate_fn=Collator())\n",
    "with torch.no_grad():\n",
    "    for batch in tqdm(dataloader):\n",
    "        images = batch['image']\n",
    "        prompts = [\"<IMGPLH>\" + x for x in batch['question']]\n",
    "        question_ids = batch['question_id']\n",
    "        inputs = model.prepare_input_ids_for_generation(prompts, images, tokenizer)\n",
    "        outputs = model.generate(\n",
    "            input_ids=inputs['input_ids'].to(device), \n",
    "            attention_mask=inputs['attention_mask'].to(device), \n",
    "            encoded_image = inputs[\"encoded_image\"], \n",
    "            max_new_tokens=128, \n",
    "            do_sample=True,\n",
    "            pad_token_id=tokenizer.pad_token_id,\n",
    "            eos_token_id=tokenizer.eos_token_id,\n",
    "            top_p=0.9,\n",
    "            temperature = 0.8\n",
    "        )\n",
    "        output_text = tokenizer.batch_decode(outputs, skip_special_tokens=True)\n",
    "        output_text = [text.split(\"assistant\\n\\n\")[1] for text in output_text]\n",
    "        for qid, ans, q, gt in zip(question_ids, output_text, batch['question'], batch['answer']):\n",
    "            answers.append((qid, q, gt, ans))"
   ]
  },
  {
   "cell_type": "code",
   "execution_count": null,
   "metadata": {},
   "outputs": [],
   "source": [
    "with open(\"results/answers.json\", \"w\") as f:\n",
    "    json.dump(answers, f)"
   ]
  },
  {
   "cell_type": "code",
   "execution_count": null,
   "metadata": {},
   "outputs": [],
   "source": []
  }
 ],
 "metadata": {
  "kernelspec": {
   "display_name": "Python 3",
   "language": "python",
   "name": "python3"
  },
  "language_info": {
   "codemirror_mode": {
    "name": "ipython",
    "version": 3
   },
   "file_extension": ".py",
   "mimetype": "text/x-python",
   "name": "python",
   "nbconvert_exporter": "python",
   "pygments_lexer": "ipython3",
   "version": "3.12.7"
  }
 },
 "nbformat": 4,
 "nbformat_minor": 2
}
