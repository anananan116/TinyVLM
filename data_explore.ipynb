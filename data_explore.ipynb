{
 "cells": [
  {
   "cell_type": "code",
   "execution_count": 1,
   "id": "04104fdf-b39f-44df-ab02-18843aba1d82",
   "metadata": {},
   "outputs": [],
   "source": [
    "import pandas as pd\n",
    "import numpy as np\n",
    "import matplotlib.pyplot as plt\n",
    "import os\n",
    "from PIL import Image"
   ]
  },
  {
   "cell_type": "code",
   "execution_count": 2,
   "id": "d4dcb706-2712-41e7-8d2a-e15d71b4e651",
   "metadata": {},
   "outputs": [
    {
     "name": "stdout",
     "output_type": "stream",
     "text": [
      "Amount of images printable of first 100: 2\n"
     ]
    }
   ],
   "source": [
    "path = './images/'\n",
    "fileList=os.listdir(path)\n",
    "print(f'Amount of images printable of first 100: {len(fileList)}')"
   ]
  },
  {
   "cell_type": "code",
   "execution_count": 3,
   "id": "26a06456-8085-4d90-b46c-25074a15f73d",
   "metadata": {},
   "outputs": [],
   "source": [
    "import os.path\n",
    "valid_png = []\n",
    "for images in os.listdir(path):\n",
    "    if (images.endswith(\".jpg\")):\n",
    "        extension = os.path.splitext(images)[0]\n",
    "        valid_png.append(extension)\n",
    "        size = 128, 128\n",
    "        img = Image.open(path + images)\n",
    "        if img.mode in (\"RGBA\", \"P\"):\n",
    "            img = img.convert(\"RGB\")\n",
    "        img = img.resize(size)\n",
    "        img.save(path + images, 'jpeg')"
   ]
  },
  {
   "cell_type": "code",
   "execution_count": 4,
   "id": "99ca9395-4f27-45bd-b0ed-0ce736c599ee",
   "metadata": {},
   "outputs": [],
   "source": [
    "for images in os.listdir(path):\n",
    "    if (images.endswith(\".jpg\")):\n",
    "        img = Image.open(path + images)\n",
    "        print(f'{img.size}')"
   ]
  },
  {
   "cell_type": "code",
   "execution_count": 5,
   "id": "178987ee-db33-4d24-adee-3592f757347c",
   "metadata": {},
   "outputs": [],
   "source": [
    "df = pd.read_csv(\"data/capsfusion_head.csv\")"
   ]
  },
  {
   "cell_type": "code",
   "execution_count": 6,
   "id": "a931e9c9-ed32-4544-97ca-3a75ffea907f",
   "metadata": {},
   "outputs": [
    {
     "data": {
      "text/html": [
       "<div>\n",
       "<style scoped>\n",
       "    .dataframe tbody tr th:only-of-type {\n",
       "        vertical-align: middle;\n",
       "    }\n",
       "\n",
       "    .dataframe tbody tr th {\n",
       "        vertical-align: top;\n",
       "    }\n",
       "\n",
       "    .dataframe thead th {\n",
       "        text-align: right;\n",
       "    }\n",
       "</style>\n",
       "<table border=\"1\" class=\"dataframe\">\n",
       "  <thead>\n",
       "    <tr style=\"text-align: right;\">\n",
       "      <th></th>\n",
       "      <th>image_url</th>\n",
       "      <th>laion_2b</th>\n",
       "      <th>laion_coco</th>\n",
       "      <th>capsfusion</th>\n",
       "    </tr>\n",
       "  </thead>\n",
       "  <tbody>\n",
       "    <tr>\n",
       "      <th>0</th>\n",
       "      <td>http://ih3.redbubble.net/image.12080909.2547/f...</td>\n",
       "      <td>Minifig [Rainbow 1] by Customize My Minifig by...</td>\n",
       "      <td>The Lego man is rainbow colored and has the wo...</td>\n",
       "      <td>The Lego minifigure, known as Minifig [Rainbow...</td>\n",
       "    </tr>\n",
       "    <tr>\n",
       "      <th>1</th>\n",
       "      <td>https://cdn.shopify.com/s/files/1/2161/7557/pr...</td>\n",
       "      <td>Chilly Grip H2O Waterproof Thermal Lined, Hi-V...</td>\n",
       "      <td>an image of gloves with yellow and black finge...</td>\n",
       "      <td>The Chilly Grip H2O Waterproof Thermal Lined, ...</td>\n",
       "    </tr>\n",
       "    <tr>\n",
       "      <th>2</th>\n",
       "      <td>http://i0.wp.com/www.ladycarehealth.com/wp-con...</td>\n",
       "      <td>Abdominal Cramping Is A Sign Of Pregnancy</td>\n",
       "      <td>A woman sitting on a bed with stomach pain.</td>\n",
       "      <td>Abdominal cramping is a common sign of pregnan...</td>\n",
       "    </tr>\n",
       "    <tr>\n",
       "      <th>3</th>\n",
       "      <td>https://cdn.shopify.com/s/files/1/2986/1514/pr...</td>\n",
       "      <td>Lovely 1930s Velveteen Burgundy Half Sleeve Dr...</td>\n",
       "      <td>A mannequin dress with a red velvet and blue r...</td>\n",
       "      <td>This lovely 1930s Velveteen Burgundy Half Slee...</td>\n",
       "    </tr>\n",
       "    <tr>\n",
       "      <th>4</th>\n",
       "      <td>https://cdn.shopify.com/s/files/1/2169/9777/pr...</td>\n",
       "      <td>Little Yellow Chick - Easter Outfit - Outfit -...</td>\n",
       "      <td>A girl's outfit with an easter chick and pink ...</td>\n",
       "      <td>The Bubblegum Divas Store offers a Little Yell...</td>\n",
       "    </tr>\n",
       "  </tbody>\n",
       "</table>\n",
       "</div>"
      ],
      "text/plain": [
       "                                           image_url  \\\n",
       "0  http://ih3.redbubble.net/image.12080909.2547/f...   \n",
       "1  https://cdn.shopify.com/s/files/1/2161/7557/pr...   \n",
       "2  http://i0.wp.com/www.ladycarehealth.com/wp-con...   \n",
       "3  https://cdn.shopify.com/s/files/1/2986/1514/pr...   \n",
       "4  https://cdn.shopify.com/s/files/1/2169/9777/pr...   \n",
       "\n",
       "                                            laion_2b  \\\n",
       "0  Minifig [Rainbow 1] by Customize My Minifig by...   \n",
       "1  Chilly Grip H2O Waterproof Thermal Lined, Hi-V...   \n",
       "2          Abdominal Cramping Is A Sign Of Pregnancy   \n",
       "3  Lovely 1930s Velveteen Burgundy Half Sleeve Dr...   \n",
       "4  Little Yellow Chick - Easter Outfit - Outfit -...   \n",
       "\n",
       "                                          laion_coco  \\\n",
       "0  The Lego man is rainbow colored and has the wo...   \n",
       "1  an image of gloves with yellow and black finge...   \n",
       "2        A woman sitting on a bed with stomach pain.   \n",
       "3  A mannequin dress with a red velvet and blue r...   \n",
       "4  A girl's outfit with an easter chick and pink ...   \n",
       "\n",
       "                                          capsfusion  \n",
       "0  The Lego minifigure, known as Minifig [Rainbow...  \n",
       "1  The Chilly Grip H2O Waterproof Thermal Lined, ...  \n",
       "2  Abdominal cramping is a common sign of pregnan...  \n",
       "3  This lovely 1930s Velveteen Burgundy Half Slee...  \n",
       "4  The Bubblegum Divas Store offers a Little Yell...  "
      ]
     },
     "execution_count": 6,
     "metadata": {},
     "output_type": "execute_result"
    }
   ],
   "source": [
    "df.head()"
   ]
  },
  {
   "cell_type": "code",
   "execution_count": 7,
   "id": "1a9822d0-c262-4106-8b86-c306e123de32",
   "metadata": {},
   "outputs": [],
   "source": [
    "from sklearn.model_selection import train_test_split\n",
    "from sklearn.ensemble import RandomForestClassifier\n",
    "from sklearn.metrics import accuracy_score, classification_report, confusion_matrix\n",
    "from sklearn.preprocessing import LabelEncoder, StandardScaler\n",
    "from sklearn.pipeline import make_pipeline\n",
    "\n",
    "def load_and_process_image(image_index):\n",
    "    filepath = os.path.join(path, f\"{image_index}.jpg\")\n",
    "    try:\n",
    "        with Image.open(path + image_index + '.jpg') as img:\n",
    "            img_array = np.array(img).flatten()\n",
    "            return img_array\n",
    "    except Exception as e:\n",
    "        print(f\"Error loading image {filepath}: {e}\")\n",
    "        return None"
   ]
  },
  {
   "cell_type": "code",
   "execution_count": null,
   "id": "b9732018-89cf-4860-a399-fc650d248ca4",
   "metadata": {},
   "outputs": [],
   "source": [
    "valid_png = np.array(valid_png)\n",
    "\n",
    "X = np.array([load_and_process_image(row) for row in valid_png])\n",
    "y = df['laion_coco'].values\n",
    "\n",
    "X = np.array([X[i] for i in valid_png])\n",
    "y = np.array([y[i] for i in valid_png])"
   ]
  }
 ],
 "metadata": {
  "kernelspec": {
   "display_name": "Python 3 (ipykernel)",
   "language": "python",
   "name": "python3"
  },
  "language_info": {
   "codemirror_mode": {
    "name": "ipython",
    "version": 3
   },
   "file_extension": ".py",
   "mimetype": "text/x-python",
   "name": "python",
   "nbconvert_exporter": "python",
   "pygments_lexer": "ipython3",
   "version": "3.10.9"
  }
 },
 "nbformat": 4,
 "nbformat_minor": 5
}
