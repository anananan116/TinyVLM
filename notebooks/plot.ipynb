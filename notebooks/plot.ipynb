{
 "cells": [
  {
   "cell_type": "code",
   "execution_count": null,
   "metadata": {},
   "outputs": [],
   "source": [
    "from tensorboard.backend.event_processing import event_accumulator\n",
    "import matplotlib.pyplot as plt"
   ]
  },
  {
   "cell_type": "code",
   "execution_count": null,
   "metadata": {},
   "outputs": [],
   "source": [
    "ea = event_accumulator.EventAccumulator('results/runs/Nov16_17-15-34_GPU-server')"
   ]
  },
  {
   "cell_type": "code",
   "execution_count": null,
   "metadata": {},
   "outputs": [],
   "source": [
    "ea.Reload()"
   ]
  },
  {
   "cell_type": "code",
   "execution_count": null,
   "metadata": {},
   "outputs": [],
   "source": [
    "ea.Tags()"
   ]
  },
  {
   "cell_type": "code",
   "execution_count": null,
   "metadata": {},
   "outputs": [],
   "source": [
    "training_loss = []\n",
    "for scalar in ea.Scalars('train/loss'):\n",
    "    training_loss.append((scalar.step, scalar.value/8))\n",
    "\n",
    "eval_loss = []\n",
    "for scalar in ea.Scalars('evaluation/eval_loss'):\n",
    "    eval_loss.append((scalar.step, scalar.value))"
   ]
  },
  {
   "cell_type": "code",
   "execution_count": null,
   "metadata": {},
   "outputs": [],
   "source": [
    "train_steps, train_values = zip(*training_loss[1:])\n",
    "eval_steps, eval_values = zip(*eval_loss)\n",
    "# Create the plot\n",
    "plt.figure(figsize=(14, 8))\n",
    "\n",
    "# Plot the training loss with a solid line and larger markers\n",
    "plt.plot(train_steps, train_values, label='Training Loss', linestyle='-', markersize=8, alpha=0.8, linewidth=2)\n",
    "\n",
    "# Plot the evaluation loss with a dashed line and larger markers\n",
    "plt.plot(eval_steps, eval_values, label='Evaluation Loss', linestyle='--', marker='s', markersize=8, alpha=0.8, linewidth=2, color='orange')\n",
    "\n",
    "# Customize labels, title, and legend\n",
    "plt.xlabel('Step', fontsize=20)\n",
    "plt.ylabel('Loss', fontsize=20)\n",
    "plt.title('Training and Evaluation Loss Over Steps', fontsize=30, fontweight='bold')\n",
    "plt.legend(fontsize=20)\n",
    "\n",
    "# Customize the grid for better clarity\n",
    "plt.grid(visible=True, linestyle='--', alpha=0.5)\n",
    "\n",
    "# Make tick labels bigger for better readability\n",
    "plt.xticks(fontsize=16)\n",
    "plt.yticks(fontsize=16)\n",
    "\n",
    "# Adjust layout for better spacing\n",
    "plt.tight_layout()\n",
    "\n",
    "# Display the plot\n",
    "plt.show()"
   ]
  },
  {
   "cell_type": "code",
   "execution_count": null,
   "metadata": {},
   "outputs": [],
   "source": [
    "bleu_1 = []\n",
    "for scalar in ea.Scalars('evaluation/bleu_1'):\n",
    "    bleu_1.append((scalar.step, scalar.value))\n",
    "\n",
    "bleu_2 = []\n",
    "for scalar in ea.Scalars('evaluation/bleu_2'):\n",
    "    bleu_2.append((scalar.step, scalar.value))\n",
    "\n",
    "bleu_3 = []\n",
    "for scalar in ea.Scalars('evaluation/bleu_3'):\n",
    "    bleu_3.append((scalar.step, scalar.value))\n",
    "\n",
    "bleu_4 = []\n",
    "for scalar in ea.Scalars('evaluation/bleu_4'):\n",
    "    bleu_4.append((scalar.step, scalar.value))"
   ]
  },
  {
   "cell_type": "code",
   "execution_count": null,
   "metadata": {},
   "outputs": [],
   "source": [
    "steps_1, values_1 = zip(*bleu_1)\n",
    "steps_2, values_2 = zip(*bleu_2)\n",
    "steps_3, values_3 = zip(*bleu_3)\n",
    "steps_4, values_4 = zip(*bleu_4)\n",
    "\n",
    "# Create the plot\n",
    "plt.figure(figsize=(14, 8))\n",
    "plt.plot(steps_1, values_1, label='BLEU-1', linestyle='-', marker='o', markersize=6, linewidth=2)\n",
    "plt.plot(steps_2, values_2, label='BLEU-2', linestyle='--', marker='s', markersize=6, linewidth=2)\n",
    "plt.plot(steps_3, values_3, label='BLEU-3', linestyle='-.', marker='^', markersize=6, linewidth=2)\n",
    "plt.plot(steps_4, values_4, label='BLEU-4', linestyle=':', marker='x', markersize=6, linewidth=2)\n",
    "\n",
    "# Customize the plot for better readability\n",
    "plt.xlabel('Step', fontsize=20)\n",
    "plt.ylabel('BLEU Score', fontsize=20)\n",
    "plt.title('Evaluation BLEU Scores Over Steps', fontsize=30, fontweight='bold')\n",
    "plt.legend(fontsize=16)\n",
    "plt.grid(visible=True, linestyle='--', alpha=0.5)\n",
    "plt.xticks(fontsize=16)\n",
    "plt.yticks(fontsize=16)\n",
    "plt.tight_layout()\n",
    "\n",
    "# Display the plot\n",
    "plt.show()"
   ]
  },
  {
   "cell_type": "code",
   "execution_count": null,
   "metadata": {},
   "outputs": [],
   "source": []
  }
 ],
 "metadata": {
  "kernelspec": {
   "display_name": "Python 3",
   "language": "python",
   "name": "python3"
  },
  "language_info": {
   "codemirror_mode": {
    "name": "ipython",
    "version": 3
   },
   "file_extension": ".py",
   "mimetype": "text/x-python",
   "name": "python",
   "nbconvert_exporter": "python",
   "pygments_lexer": "ipython3",
   "version": "3.11.8"
  }
 },
 "nbformat": 4,
 "nbformat_minor": 2
}
