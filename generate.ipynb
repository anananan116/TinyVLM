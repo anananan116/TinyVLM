{
 "cells": [
  {
   "cell_type": "code",
   "execution_count": null,
   "metadata": {},
   "outputs": [],
   "source": [
    "from transformers import AutoModelForCausalLM, AutoTokenizer\n",
    "from PIL import Image\n",
    "import requests\n",
    "import torch \n",
    "\n",
    "model = AutoModelForCausalLM.from_pretrained(\n",
    "    \"anananan116/TinyVLM\",\n",
    "    trust_remote_code = True,\n",
    "    torch_dtype=torch.float16,\n",
    "    ).to('cuda').eval()\n",
    "tokenizer = AutoTokenizer.from_pretrained(\"anananan116/TinyVLM\")\n",
    "\n",
    "# `<IMGPLH>` is the image placeholder which will be replaced by image embeddings. \n",
    "# the number of `<IMGPLH>` should be equal to the number of input images\n",
    "\n",
    "prompt = \"Here's an image:<IMGPLH>Describe this image.\"\n",
    "image = Image.open(requests.get('https://github.com/anananan116/TinyVLM/blob/main/test.png?raw=true',stream=True).raw)\n",
    "inputs = model.prepare_input_ids_for_generation([prompt], [image], tokenizer)"
   ]
  },
  {
   "cell_type": "code",
   "execution_count": null,
   "metadata": {},
   "outputs": [
    {
     "name": "stderr",
     "output_type": "stream",
     "text": [
      "Setting `pad_token_id` to `eos_token_id`:None for open-end generation.\n"
     ]
    }
   ],
   "source": [
    "with torch.no_grad():\n",
    "    outputs = model.generate(\n",
    "        input_ids=inputs['input_ids'].to(\"cuda\"), \n",
    "        attention_mask=inputs['attention_mask'].to(\"cuda\"), \n",
    "        encoded_image = inputs[\"encoded_image\"], \n",
    "        max_new_tokens=128, \n",
    "        do_sample=True,\n",
    "    )\n",
    "\n",
    "output_text = tokenizer.batch_decode(outputs, skip_special_tokens=True)"
   ]
  },
  {
   "cell_type": "code",
   "execution_count": 3,
   "metadata": {},
   "outputs": [
    {
     "data": {
      "text/plain": [
       "[\"system\\n\\nCutting Knowledge Date: December 2023\\nToday Date: 16 Nov 2024\\n\\nYou are a powerful visual assistant.user\\n\\nHere's an image:<IMAGE><IMAGE_END>Describe this image.assistant\\n\\nIn the game, there is a scene where a man is standing in front of some trees.\"]"
      ]
     },
     "execution_count": 3,
     "metadata": {},
     "output_type": "execute_result"
    }
   ],
   "source": [
    "output_text"
   ]
  }
 ],
 "metadata": {
  "kernelspec": {
   "display_name": "Python 3",
   "language": "python",
   "name": "python3"
  },
  "language_info": {
   "codemirror_mode": {
    "name": "ipython",
    "version": 3
   },
   "file_extension": ".py",
   "mimetype": "text/x-python",
   "name": "python",
   "nbconvert_exporter": "python",
   "pygments_lexer": "ipython3",
   "version": "3.12.7"
  }
 },
 "nbformat": 4,
 "nbformat_minor": 2
}
