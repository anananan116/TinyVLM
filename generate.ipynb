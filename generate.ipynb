{
 "cells": [
  {
   "cell_type": "code",
   "execution_count": null,
   "metadata": {},
   "outputs": [],
   "source": [
    "from transformers import AutoModelForCausalLM, AutoTokenizer\n",
    "from PIL import Image\n",
    "import requests\n",
    "import torch \n",
    "import glob\n",
    "\n",
    "model = AutoModelForCausalLM.from_pretrained(\n",
    "    \"anananan116/TinyVLM\",\n",
    "    trust_remote_code = True,\n",
    "    torch_dtype=torch.float16,\n",
    "    )\n",
    "\n",
    "if torch.cuda.is_available():\n",
    "    device = torch.device(\"cuda\")\n",
    "elif torch.backends.mps.is_available():\n",
    "    device = torch.device(\"mps\")\n",
    "else:\n",
    "    device = torch.device(\"cpu\")\n",
    "model.to(device).eval()\n",
    "\n",
    "\n",
    "tokenizer = AutoTokenizer.from_pretrained(\"anananan116/TinyVLM\")\n",
    "\n",
    "# `<IMGPLH>` is the image placeholder which will be replaced by image embeddings. \n",
    "# the number of `<IMGPLH>` should be equal to the number of input images\n",
    "\n"
   ]
  },
  {
   "cell_type": "code",
   "execution_count": null,
   "metadata": {},
   "outputs": [],
   "source": [
    "#Scan for images in the input folder\n",
    "images_path = glob.glob(\"assets/test_images/*.jpg\") + glob.glob(\"assets/test_images/*.png\") + glob.glob(\"assets/test_images/*.jpeg\") + glob.glob(\"assets/test_images/*.webp\") + glob.glob(\"assets/test_images/*.avif\")"
   ]
  },
  {
   "cell_type": "code",
   "execution_count": null,
   "metadata": {},
   "outputs": [],
   "source": [
    "images = []\n",
    "for one_image in images_path:\n",
    "    image = Image.open(one_image)\n",
    "    images.append(image)\n",
    "prompt = \"Here's an image:<IMGPLH>Describe this image.\"\n",
    "inputs = model.prepare_input_ids_for_generation([prompt] * len(images), images, tokenizer)"
   ]
  },
  {
   "cell_type": "code",
   "execution_count": null,
   "metadata": {},
   "outputs": [],
   "source": [
    "with torch.no_grad():\n",
    "    outputs = model.generate(\n",
    "        input_ids=inputs['input_ids'].to(device), \n",
    "        attention_mask=inputs['attention_mask'].to(device), \n",
    "        encoded_image = inputs[\"encoded_image\"], \n",
    "        max_new_tokens=128, \n",
    "        do_sample=True,\n",
    "    )\n",
    "\n",
    "output_text = tokenizer.batch_decode(outputs, skip_special_tokens=True)"
   ]
  },
  {
   "cell_type": "code",
   "execution_count": null,
   "metadata": {},
   "outputs": [],
   "source": [
    "output_text = [text.split(\"assistant\\n\\n\")[1] for text in output_text]"
   ]
  },
  {
   "cell_type": "code",
   "execution_count": null,
   "metadata": {},
   "outputs": [],
   "source": [
    "output_text"
   ]
  },
  {
   "cell_type": "code",
   "execution_count": null,
   "metadata": {},
   "outputs": [],
   "source": [
    "import matplotlib.pyplot as plt\n",
    "import math\n",
    "import textwrap"
   ]
  },
  {
   "cell_type": "code",
   "execution_count": null,
   "metadata": {},
   "outputs": [],
   "source": [
    "def plot_images_with_captions(images, captions, wrap_width=42):\n",
    "    # Calculate the number of rows needed\n",
    "    num_images = len(images)\n",
    "    num_columns = 4\n",
    "    num_rows = math.ceil(num_images / num_columns)\n",
    "    \n",
    "    # Create a figure with specified size\n",
    "    fig, axes = plt.subplots(num_rows, num_columns, figsize=(15, num_rows * 4))\n",
    "    axes = axes.flatten()\n",
    "\n",
    "    for idx, (image, caption) in enumerate(zip(images, captions)):\n",
    "        axes[idx].imshow(image)\n",
    "        # Use textwrap to wrap the caption\n",
    "        wrapped_caption = \"\\n\".join(textwrap.wrap(caption, wrap_width))\n",
    "        axes[idx].set_title(wrapped_caption, fontsize=12)\n",
    "        axes[idx].axis('off')\n",
    "\n",
    "    # Turn off any extra axes\n",
    "    for ax in axes[num_images:]:\n",
    "        ax.axis('off')\n",
    "\n",
    "    plt.tight_layout()\n",
    "    plt.show()"
   ]
  },
  {
   "cell_type": "code",
   "execution_count": null,
   "metadata": {},
   "outputs": [],
   "source": [
    "plot_images_with_captions(images, output_text)"
   ]
  },
  {
   "cell_type": "code",
   "execution_count": null,
   "metadata": {},
   "outputs": [],
   "source": []
  }
 ],
 "metadata": {
  "kernelspec": {
   "display_name": "Python 3",
   "language": "python",
   "name": "python3"
  },
  "language_info": {
   "codemirror_mode": {
    "name": "ipython",
    "version": 3
   },
   "file_extension": ".py",
   "mimetype": "text/x-python",
   "name": "python",
   "nbconvert_exporter": "python",
   "pygments_lexer": "ipython3",
   "version": "3.12.7"
  }
 },
 "nbformat": 4,
 "nbformat_minor": 2
}
