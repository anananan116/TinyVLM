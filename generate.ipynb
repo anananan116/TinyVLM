{
 "cells": [
  {
   "cell_type": "code",
   "execution_count": null,
   "metadata": {},
   "outputs": [],
   "source": [
    "from transformers import AutoModelForCausalLM, AutoTokenizer\n",
    "from PIL import Image\n",
    "import requests\n",
    "import torch \n",
    "\n",
    "model = AutoModelForCausalLM.from_pretrained(\n",
    "    \"anananan116/TinyVLM\",\n",
    "    trust_remote_code = True,\n",
    "    torch_dtype=torch.float16,\n",
    "    ).to('cuda').eval()\n",
    "tokenizer = AutoTokenizer.from_pretrained(\"anananan116/TinyVLM\")\n",
    "\n",
    "# `<IMGPLH>` is the image placeholder which will be replaced by image embeddings. \n",
    "# the number of `<IMGPLH>` should be equal to the number of input images\n",
    "\n",
    "prompt = \"Here's an image:<IMGPLH>Describe this image.\"\n",
    "image = Image.open(requests.get('https://github.com/anananan116/TinyVLM/blob/main/test.png?raw=true',stream=True).raw)\n",
    "inputs = model.prepare_input_ids_for_generation([prompt], [image], tokenizer)\n",
    "\n",
    "with torch.no_grad():\n",
    "    outputs = model.generate(\n",
    "        input_ids=inputs['input_ids'].to(\"cuda\"), \n",
    "        attention_mask=inputs['attention_mask'].to(\"cuda\"), \n",
    "        encoded_image = inputs[\"encoded_image\"], \n",
    "        max_new_tokens=128, \n",
    "        do_sample=False\n",
    "    )\n",
    "\n",
    "output_text = tokenizer.batch_decode(outputs, skip_special_tokens=True)"
   ]
  },
  {
   "cell_type": "code",
   "execution_count": null,
   "metadata": {},
   "outputs": [],
   "source": [
    "output_text = tokenizer.batch_decode(outputs)"
   ]
  },
  {
   "cell_type": "code",
   "execution_count": null,
   "metadata": {},
   "outputs": [],
   "source": []
  }
 ],
 "metadata": {
  "kernelspec": {
   "display_name": "Python 3",
   "language": "python",
   "name": "python3"
  },
  "language_info": {
   "codemirror_mode": {
    "name": "ipython",
    "version": 3
   },
   "file_extension": ".py",
   "mimetype": "text/x-python",
   "name": "python",
   "nbconvert_exporter": "python",
   "pygments_lexer": "ipython3",
   "version": "3.12.7"
  }
 },
 "nbformat": 4,
 "nbformat_minor": 2
}
