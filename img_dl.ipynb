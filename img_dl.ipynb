{
 "cells": [
  {
   "cell_type": "code",
   "execution_count": 1,
   "metadata": {},
   "outputs": [],
   "source": [
    "import pandas as pd\n",
    "import requests\n",
    "import numpy as np"
   ]
  },
  {
   "cell_type": "code",
   "execution_count": 2,
   "metadata": {},
   "outputs": [
    {
     "data": {
      "text/html": [
       "<div>\n",
       "<style scoped>\n",
       "    .dataframe tbody tr th:only-of-type {\n",
       "        vertical-align: middle;\n",
       "    }\n",
       "\n",
       "    .dataframe tbody tr th {\n",
       "        vertical-align: top;\n",
       "    }\n",
       "\n",
       "    .dataframe thead th {\n",
       "        text-align: right;\n",
       "    }\n",
       "</style>\n",
       "<table border=\"1\" class=\"dataframe\">\n",
       "  <thead>\n",
       "    <tr style=\"text-align: right;\">\n",
       "      <th></th>\n",
       "      <th>image_url</th>\n",
       "      <th>laion_2b</th>\n",
       "      <th>laion_coco</th>\n",
       "      <th>capsfusion</th>\n",
       "    </tr>\n",
       "  </thead>\n",
       "  <tbody>\n",
       "    <tr>\n",
       "      <th>0</th>\n",
       "      <td>http://ih3.redbubble.net/image.12080909.2547/f...</td>\n",
       "      <td>Minifig [Rainbow 1] by Customize My Minifig by...</td>\n",
       "      <td>The Lego man is rainbow colored and has the wo...</td>\n",
       "      <td>The Lego minifigure, known as Minifig [Rainbow...</td>\n",
       "    </tr>\n",
       "    <tr>\n",
       "      <th>1</th>\n",
       "      <td>https://cdn.shopify.com/s/files/1/2161/7557/pr...</td>\n",
       "      <td>Chilly Grip H2O Waterproof Thermal Lined, Hi-V...</td>\n",
       "      <td>an image of gloves with yellow and black finge...</td>\n",
       "      <td>The Chilly Grip H2O Waterproof Thermal Lined, ...</td>\n",
       "    </tr>\n",
       "    <tr>\n",
       "      <th>2</th>\n",
       "      <td>http://i0.wp.com/www.ladycarehealth.com/wp-con...</td>\n",
       "      <td>Abdominal Cramping Is A Sign Of Pregnancy</td>\n",
       "      <td>A woman sitting on a bed with stomach pain.</td>\n",
       "      <td>Abdominal cramping is a common sign of pregnan...</td>\n",
       "    </tr>\n",
       "    <tr>\n",
       "      <th>3</th>\n",
       "      <td>https://cdn.shopify.com/s/files/1/2986/1514/pr...</td>\n",
       "      <td>Lovely 1930s Velveteen Burgundy Half Sleeve Dr...</td>\n",
       "      <td>A mannequin dress with a red velvet and blue r...</td>\n",
       "      <td>This lovely 1930s Velveteen Burgundy Half Slee...</td>\n",
       "    </tr>\n",
       "    <tr>\n",
       "      <th>4</th>\n",
       "      <td>https://cdn.shopify.com/s/files/1/2169/9777/pr...</td>\n",
       "      <td>Little Yellow Chick - Easter Outfit - Outfit -...</td>\n",
       "      <td>A girl's outfit with an easter chick and pink ...</td>\n",
       "      <td>The Bubblegum Divas Store offers a Little Yell...</td>\n",
       "    </tr>\n",
       "  </tbody>\n",
       "</table>\n",
       "</div>"
      ],
      "text/plain": [
       "                                           image_url  \\\n",
       "0  http://ih3.redbubble.net/image.12080909.2547/f...   \n",
       "1  https://cdn.shopify.com/s/files/1/2161/7557/pr...   \n",
       "2  http://i0.wp.com/www.ladycarehealth.com/wp-con...   \n",
       "3  https://cdn.shopify.com/s/files/1/2986/1514/pr...   \n",
       "4  https://cdn.shopify.com/s/files/1/2169/9777/pr...   \n",
       "\n",
       "                                            laion_2b  \\\n",
       "0  Minifig [Rainbow 1] by Customize My Minifig by...   \n",
       "1  Chilly Grip H2O Waterproof Thermal Lined, Hi-V...   \n",
       "2          Abdominal Cramping Is A Sign Of Pregnancy   \n",
       "3  Lovely 1930s Velveteen Burgundy Half Sleeve Dr...   \n",
       "4  Little Yellow Chick - Easter Outfit - Outfit -...   \n",
       "\n",
       "                                          laion_coco  \\\n",
       "0  The Lego man is rainbow colored and has the wo...   \n",
       "1  an image of gloves with yellow and black finge...   \n",
       "2        A woman sitting on a bed with stomach pain.   \n",
       "3  A mannequin dress with a red velvet and blue r...   \n",
       "4  A girl's outfit with an easter chick and pink ...   \n",
       "\n",
       "                                          capsfusion  \n",
       "0  The Lego minifigure, known as Minifig [Rainbow...  \n",
       "1  The Chilly Grip H2O Waterproof Thermal Lined, ...  \n",
       "2  Abdominal cramping is a common sign of pregnan...  \n",
       "3  This lovely 1930s Velveteen Burgundy Half Slee...  \n",
       "4  The Bubblegum Divas Store offers a Little Yell...  "
      ]
     },
     "execution_count": 2,
     "metadata": {},
     "output_type": "execute_result"
    }
   ],
   "source": [
    "first_10k=pd.read_csv('data/capsfusion_head.csv')\n",
    "first_10k.head()"
   ]
  },
  {
   "cell_type": "code",
   "execution_count": 3,
   "metadata": {},
   "outputs": [],
   "source": [
    "import requests\n",
    "import os\n",
    "import concurrent.futures\n",
    "\n",
    "def download_images(df):\n",
    "    def download_image(url, i):\n",
    "        response = requests.get(url)\n",
    "        if response.status_code == 200:\n",
    "            with open(f\"images/{i}.jpg\", \"wb\") as file:\n",
    "                file.write(response.content)\n",
    "            print(f\"Image {i} downloaded successfully.\")\n",
    "        else:\n",
    "            print(f\"Failed to download image {i}: {response.status_code}\")\n",
    "    urls = df['image_url']\n",
    "    with concurrent.futures.ThreadPoolExecutor() as executor:\n",
    "        futures = [executor.submit(download_image, url, i) for i, url in enumerate(urls)]\n",
    "        concurrent.futures.wait(futures)\n"
   ]
  },
  {
   "cell_type": "code",
   "execution_count": null,
   "metadata": {},
   "outputs": [],
   "source": [
    "first_100 = first_10k.iloc[:100]\n",
    "# download_images(first_100)"
   ]
  }
 ],
 "metadata": {
  "kernelspec": {
   "display_name": "base",
   "language": "python",
   "name": "python3"
  },
  "language_info": {
   "codemirror_mode": {
    "name": "ipython",
    "version": 3
   },
   "file_extension": ".py",
   "mimetype": "text/x-python",
   "name": "python",
   "nbconvert_exporter": "python",
   "pygments_lexer": "ipython3",
   "version": "3.9.13"
  },
  "orig_nbformat": 4,
  "vscode": {
   "interpreter": {
    "hash": "5486444823919bf5533df1e16296b0e50a26ea647816ff0bc099daecd9efa1ed"
   }
  }
 },
 "nbformat": 4,
 "nbformat_minor": 2
}
