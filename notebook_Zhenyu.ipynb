{
 "cells": [
  {
   "attachments": {},
   "cell_type": "markdown",
   "metadata": {},
   "source": [
    "# TinyVLM\n",
    "\n",
    "## Data Exploration and Initial Preprocessing\n",
    "\n",
    "### Data Exploration\n",
    "\n",
    "##### Data\n",
    "\n",
    "- [Images used for training with descriptions](https://huggingface.co/datasets/BAAI/CapsFusion-120M)\n",
    "- [Instruction Tuning #1](https://textvqa.org/dataset/)\n",
    "- [Instruction Tuning #2](https://visualqa.org/download.html)\n",
    "\n",
    "General Info on our Data:\n",
    "\n",
    "- Our dataset provides over 13 million image links, but we are scaling down. We downloaded the first 5 million rows of the dataset, and of these we will only use the rows where the image link gives a successful response code.\n",
    "- All initial images are not uniform in any regard, however during preprocessing, all images will be cropped\n",
    "- 3 different descriptions for each images as features\n",
    "\n",
    "### Preprocessing Steps\n",
    "\n",
    "For preprocessing, we plan on doing the following:\n",
    "\n",
    "- Downloading only images in which gives a successful response code (rows in the dataset corresponding to images without a successful response code will be disregarded)\n",
    "- Cropping all the images to a desired 128 x 128 dimension\n",
    "- Normalization is likely not needed, however will perform when needed\n",
    "- Classification of the data, classifying each of the features\n",
    "- Encorporate image descriptions to the desired images for training\n",
    "- Prepare questions and answers for images to do instruction Tuning to the LLM pre-train model\n",
    "\n",
    "Our dataset consists of images with a wide variety of aspect ratios. Some images are already square or nearly square, whereas others have extreme aspect ratios (very narrow/wide). To account for this, we will set an aspect ratio threshold of 0.6, where aspect ratio is defined as the minimum of the width and height over the maximum of the width and height. For images with an aspect ratio greater than or equal to 0.6, we will center crop the image, and images with an aspect ratio less than 0.6 will be padded. An example of our preprocessing for a single image is as follows: Say we have a very narrow image with a height of 400px and a width of 100px. The image will be padded to make it square, meaning black bars will be added to the left and right of the image, each one having a height of 400px and a width of 150px. The image will then be downscaled to 128x128.\n",
    "\n"
   ]
  },
  {
   "cell_type": "code",
   "execution_count": 4,
   "metadata": {},
   "outputs": [
    {
     "name": "stdout",
     "output_type": "stream",
     "text": [
      "Shape of our Dataframe(100000, 5)\n",
      "\n"
     ]
    },
    {
     "data": {
      "text/html": [
       "<div>\n",
       "<style scoped>\n",
       "    .dataframe tbody tr th:only-of-type {\n",
       "        vertical-align: middle;\n",
       "    }\n",
       "\n",
       "    .dataframe tbody tr th {\n",
       "        vertical-align: top;\n",
       "    }\n",
       "\n",
       "    .dataframe thead th {\n",
       "        text-align: right;\n",
       "    }\n",
       "</style>\n",
       "<table border=\"1\" class=\"dataframe\">\n",
       "  <thead>\n",
       "    <tr style=\"text-align: right;\">\n",
       "      <th></th>\n",
       "      <th>image_url</th>\n",
       "      <th>capsfusion</th>\n",
       "      <th>identifier</th>\n",
       "      <th>original_width</th>\n",
       "      <th>original_height</th>\n",
       "    </tr>\n",
       "  </thead>\n",
       "  <tbody>\n",
       "    <tr>\n",
       "      <th>0</th>\n",
       "      <td>http://ih3.redbubble.net/image.12080909.2547/f...</td>\n",
       "      <td>The Lego minifigure, known as Minifig [Rainbow...</td>\n",
       "      <td>515623f9-0f34-49b1-be2c-253636badaf6</td>\n",
       "      <td>NaN</td>\n",
       "      <td>NaN</td>\n",
       "    </tr>\n",
       "    <tr>\n",
       "      <th>1</th>\n",
       "      <td>https://cdn.shopify.com/s/files/1/2161/7557/pr...</td>\n",
       "      <td>The Chilly Grip H2O Waterproof Thermal Lined, ...</td>\n",
       "      <td>ccb9ec94-d0d4-4384-b728-a8d9ad150aa6</td>\n",
       "      <td>439.0</td>\n",
       "      <td>480.0</td>\n",
       "    </tr>\n",
       "    <tr>\n",
       "      <th>2</th>\n",
       "      <td>http://i0.wp.com/www.ladycarehealth.com/wp-con...</td>\n",
       "      <td>Abdominal cramping is a common sign of pregnan...</td>\n",
       "      <td>642a0186-bbc4-4244-b87b-617d4ea350ed</td>\n",
       "      <td>NaN</td>\n",
       "      <td>NaN</td>\n",
       "    </tr>\n",
       "    <tr>\n",
       "      <th>3</th>\n",
       "      <td>https://cdn.shopify.com/s/files/1/2986/1514/pr...</td>\n",
       "      <td>This lovely 1930s Velveteen Burgundy Half Slee...</td>\n",
       "      <td>9be0e45a-bdd0-410d-b825-77b3781eaa84</td>\n",
       "      <td>800.0</td>\n",
       "      <td>1156.0</td>\n",
       "    </tr>\n",
       "    <tr>\n",
       "      <th>4</th>\n",
       "      <td>https://cdn.shopify.com/s/files/1/2169/9777/pr...</td>\n",
       "      <td>The Bubblegum Divas Store offers a Little Yell...</td>\n",
       "      <td>b75f96ac-c759-415c-91de-4502da4a3156</td>\n",
       "      <td>100.0</td>\n",
       "      <td>100.0</td>\n",
       "    </tr>\n",
       "  </tbody>\n",
       "</table>\n",
       "</div>"
      ],
      "text/plain": [
       "                                           image_url  \\\n",
       "0  http://ih3.redbubble.net/image.12080909.2547/f...   \n",
       "1  https://cdn.shopify.com/s/files/1/2161/7557/pr...   \n",
       "2  http://i0.wp.com/www.ladycarehealth.com/wp-con...   \n",
       "3  https://cdn.shopify.com/s/files/1/2986/1514/pr...   \n",
       "4  https://cdn.shopify.com/s/files/1/2169/9777/pr...   \n",
       "\n",
       "                                          capsfusion  \\\n",
       "0  The Lego minifigure, known as Minifig [Rainbow...   \n",
       "1  The Chilly Grip H2O Waterproof Thermal Lined, ...   \n",
       "2  Abdominal cramping is a common sign of pregnan...   \n",
       "3  This lovely 1930s Velveteen Burgundy Half Slee...   \n",
       "4  The Bubblegum Divas Store offers a Little Yell...   \n",
       "\n",
       "                             identifier  original_width  original_height  \n",
       "0  515623f9-0f34-49b1-be2c-253636badaf6             NaN              NaN  \n",
       "1  ccb9ec94-d0d4-4384-b728-a8d9ad150aa6           439.0            480.0  \n",
       "2  642a0186-bbc4-4244-b87b-617d4ea350ed             NaN              NaN  \n",
       "3  9be0e45a-bdd0-410d-b825-77b3781eaa84           800.0           1156.0  \n",
       "4  b75f96ac-c759-415c-91de-4502da4a3156           100.0            100.0  "
      ]
     },
     "execution_count": 4,
     "metadata": {},
     "output_type": "execute_result"
    }
   ],
   "source": [
    "import pandas as pd\n",
    "import numpy as np\n",
    "import matplotlib.pyplot as plt\n",
    "\n",
    "df = pd.read_csv('data/image_metadata_0.csv')\n",
    "print(f'Shape of our Dataframe{df.shape}')\n",
    "print()\n",
    "df.head()"
   ]
  },
  {
   "cell_type": "code",
   "execution_count": null,
   "metadata": {},
   "outputs": [
    {
     "name": "stdout",
     "output_type": "stream",
     "text": [
      "24178\n",
      "75822\n"
     ]
    },
    {
     "data": {
      "text/plain": [
       "Text(0.5, 1.0, 'Image download in total')"
      ]
     },
     "execution_count": 5,
     "metadata": {},
     "output_type": "execute_result"
    },
    {
     "data": {
      "image/png": "[encoded data removed]",
      "text/plain": [
       "<Figure size 640x480 with 1 Axes>"
      ]
     },
     "metadata": {},
     "output_type": "display_data"
    }
   ],
   "source": [
    "fail_download = df.isna().any(axis=1).sum()\n",
    "downloaded = df.shape[0] - fail_download\n",
    "label = ['Success', 'Failed']\n",
    "count = [downloaded, fail_download]\n",
    "plt.bar(label, count,  edgecolor='black')\n",
    "plt.ylabel('Count')\n",
    "plt.title('Image download in total')"
   ]
  },
  {
   "cell_type": "markdown",
   "metadata": {},
   "source": [
    "Drop all the null value and compute the aspect ratio for each picture"
   ]
  },
  {
   "cell_type": "code",
   "execution_count": 6,
   "metadata": {},
   "outputs": [
    {
     "data": {
      "text/html": [
       "<div>\n",
       "<style scoped>\n",
       "    .dataframe tbody tr th:only-of-type {\n",
       "        vertical-align: middle;\n",
       "    }\n",
       "\n",
       "    .dataframe tbody tr th {\n",
       "        vertical-align: top;\n",
       "    }\n",
       "\n",
       "    .dataframe thead th {\n",
       "        text-align: right;\n",
       "    }\n",
       "</style>\n",
       "<table border=\"1\" class=\"dataframe\">\n",
       "  <thead>\n",
       "    <tr style=\"text-align: right;\">\n",
       "      <th></th>\n",
       "      <th>image_url</th>\n",
       "      <th>capsfusion</th>\n",
       "      <th>identifier</th>\n",
       "      <th>original_width</th>\n",
       "      <th>original_height</th>\n",
       "      <th>aspect_ratio</th>\n",
       "    </tr>\n",
       "  </thead>\n",
       "  <tbody>\n",
       "    <tr>\n",
       "      <th>1</th>\n",
       "      <td>https://cdn.shopify.com/s/files/1/2161/7557/pr...</td>\n",
       "      <td>The Chilly Grip H2O Waterproof Thermal Lined, ...</td>\n",
       "      <td>ccb9ec94-d0d4-4384-b728-a8d9ad150aa6</td>\n",
       "      <td>439.0</td>\n",
       "      <td>480.0</td>\n",
       "      <td>0.914583</td>\n",
       "    </tr>\n",
       "    <tr>\n",
       "      <th>3</th>\n",
       "      <td>https://cdn.shopify.com/s/files/1/2986/1514/pr...</td>\n",
       "      <td>This lovely 1930s Velveteen Burgundy Half Slee...</td>\n",
       "      <td>9be0e45a-bdd0-410d-b825-77b3781eaa84</td>\n",
       "      <td>800.0</td>\n",
       "      <td>1156.0</td>\n",
       "      <td>0.692042</td>\n",
       "    </tr>\n",
       "    <tr>\n",
       "      <th>4</th>\n",
       "      <td>https://cdn.shopify.com/s/files/1/2169/9777/pr...</td>\n",
       "      <td>The Bubblegum Divas Store offers a Little Yell...</td>\n",
       "      <td>b75f96ac-c759-415c-91de-4502da4a3156</td>\n",
       "      <td>100.0</td>\n",
       "      <td>100.0</td>\n",
       "      <td>1.000000</td>\n",
       "    </tr>\n",
       "    <tr>\n",
       "      <th>5</th>\n",
       "      <td>https://www.imore.com/sites/imore.com/files/st...</td>\n",
       "      <td>Today only, Tweetbot for iPhone and iPad is on...</td>\n",
       "      <td>3f2e2dcc-9871-4c6b-88d1-5835256a594a</td>\n",
       "      <td>250.0</td>\n",
       "      <td>139.0</td>\n",
       "      <td>0.556000</td>\n",
       "    </tr>\n",
       "    <tr>\n",
       "      <th>6</th>\n",
       "      <td>https://i0.wp.com/moguldom.com/wp-content/uplo...</td>\n",
       "      <td>Kenfield Griffith, an African American man wit...</td>\n",
       "      <td>25d86850-a70d-49a8-84d8-4a6766b46a3f</td>\n",
       "      <td>300.0</td>\n",
       "      <td>300.0</td>\n",
       "      <td>1.000000</td>\n",
       "    </tr>\n",
       "  </tbody>\n",
       "</table>\n",
       "</div>"
      ],
      "text/plain": [
       "                                           image_url  \\\n",
       "1  https://cdn.shopify.com/s/files/1/2161/7557/pr...   \n",
       "3  https://cdn.shopify.com/s/files/1/2986/1514/pr...   \n",
       "4  https://cdn.shopify.com/s/files/1/2169/9777/pr...   \n",
       "5  https://www.imore.com/sites/imore.com/files/st...   \n",
       "6  https://i0.wp.com/moguldom.com/wp-content/uplo...   \n",
       "\n",
       "                                          capsfusion  \\\n",
       "1  The Chilly Grip H2O Waterproof Thermal Lined, ...   \n",
       "3  This lovely 1930s Velveteen Burgundy Half Slee...   \n",
       "4  The Bubblegum Divas Store offers a Little Yell...   \n",
       "5  Today only, Tweetbot for iPhone and iPad is on...   \n",
       "6  Kenfield Griffith, an African American man wit...   \n",
       "\n",
       "                             identifier  original_width  original_height  \\\n",
       "1  ccb9ec94-d0d4-4384-b728-a8d9ad150aa6           439.0            480.0   \n",
       "3  9be0e45a-bdd0-410d-b825-77b3781eaa84           800.0           1156.0   \n",
       "4  b75f96ac-c759-415c-91de-4502da4a3156           100.0            100.0   \n",
       "5  3f2e2dcc-9871-4c6b-88d1-5835256a594a           250.0            139.0   \n",
       "6  25d86850-a70d-49a8-84d8-4a6766b46a3f           300.0            300.0   \n",
       "\n",
       "   aspect_ratio  \n",
       "1      0.914583  \n",
       "3      0.692042  \n",
       "4      1.000000  \n",
       "5      0.556000  \n",
       "6      1.000000  "
      ]
     },
     "execution_count": 6,
     "metadata": {},
     "output_type": "execute_result"
    }
   ],
   "source": [
    "df = df.dropna()\n",
    "df['aspect_ratio'] = np.minimum(df['original_height'], df['original_width']) / np.maximum(df['original_height'], df['original_width'])\n",
    "df.head()"
   ]
  },
  {
   "cell_type": "code",
   "execution_count": 7,
   "metadata": {},
   "outputs": [
    {
     "data": {
      "text/plain": [
       "Text(0.5, 1.0, 'Histogram of aspect_ratio')"
      ]
     },
     "execution_count": 7,
     "metadata": {},
     "output_type": "execute_result"
    },
    {
     "data": {
      "image/png": "[encoded data removed]",
      "text/plain": [
       "<Figure size 640x480 with 1 Axes>"
      ]
     },
     "metadata": {},
     "output_type": "display_data"
    }
   ],
   "source": [
    "plt.hist(df['aspect_ratio'], bins=19, edgecolor='black', color='skyblue')\n",
    "plt.xlabel('ratio')\n",
    "plt.ylabel('Count')\n",
    "plt.title('Histogram of aspect_ratio')"
   ]
  },
  {
   "cell_type": "markdown",
   "metadata": {},
   "source": [
    "### Data preparing for instruction tuning\n",
    "\n"
   ]
  },
  {
   "cell_type": "markdown",
   "metadata": {},
   "source": [
    "1. Create DataFrame from json data files which include questions and answers\n"
   ]
  },
  {
   "cell_type": "code",
   "execution_count": null,
   "metadata": {},
   "outputs": [
    {
     "ename": "FileNotFoundError",
     "evalue": "File v2_Questions_Train_mscoco/v2_OpenEnded_mscoco_train2014_questions.json does not exist",
     "output_type": "error",
     "traceback": [
      "\u001b[1;31m---------------------------------------------------------------------------\u001b[0m",
      "\u001b[1;31mFileNotFoundError\u001b[0m                         Traceback (most recent call last)",
      "Cell \u001b[1;32mIn[8], line 1\u001b[0m\n\u001b[1;32m----> 1\u001b[0m df_q \u001b[38;5;241m=\u001b[39m \u001b[43mpd\u001b[49m\u001b[38;5;241;43m.\u001b[39;49m\u001b[43mread_json\u001b[49m\u001b[43m(\u001b[49m\u001b[38;5;124;43m'\u001b[39;49m\u001b[38;5;124;43mv2_Questions_Train_mscoco/v2_OpenEnded_mscoco_train2014_questions.json\u001b[39;49m\u001b[38;5;124;43m'\u001b[39;49m\u001b[43m)\u001b[49m\n\u001b[0;32m      2\u001b[0m df_a \u001b[38;5;241m=\u001b[39m pd\u001b[38;5;241m.\u001b[39mread_json(\u001b[38;5;124m'\u001b[39m\u001b[38;5;124mv2_Annotations_Train_mscoco/v2_mscoco_train2014_annotations.json\u001b[39m\u001b[38;5;124m'\u001b[39m)\n",
      "File \u001b[1;32mc:\\Users\\jiang\\anaconda3\\envs\\cse150b\\lib\\site-packages\\pandas\\io\\json\\_json.py:791\u001b[0m, in \u001b[0;36mread_json\u001b[1;34m(path_or_buf, orient, typ, dtype, convert_axes, convert_dates, keep_default_dates, precise_float, date_unit, encoding, encoding_errors, lines, chunksize, compression, nrows, storage_options, dtype_backend, engine)\u001b[0m\n\u001b[0;32m    788\u001b[0m \u001b[38;5;28;01mif\u001b[39;00m convert_axes \u001b[38;5;129;01mis\u001b[39;00m \u001b[38;5;28;01mNone\u001b[39;00m \u001b[38;5;129;01mand\u001b[39;00m orient \u001b[38;5;241m!=\u001b[39m \u001b[38;5;124m\"\u001b[39m\u001b[38;5;124mtable\u001b[39m\u001b[38;5;124m\"\u001b[39m:\n\u001b[0;32m    789\u001b[0m     convert_axes \u001b[38;5;241m=\u001b[39m \u001b[38;5;28;01mTrue\u001b[39;00m\n\u001b[1;32m--> 791\u001b[0m json_reader \u001b[38;5;241m=\u001b[39m \u001b[43mJsonReader\u001b[49m\u001b[43m(\u001b[49m\n\u001b[0;32m    792\u001b[0m \u001b[43m    \u001b[49m\u001b[43mpath_or_buf\u001b[49m\u001b[43m,\u001b[49m\n\u001b[0;32m    793\u001b[0m \u001b[43m    \u001b[49m\u001b[43morient\u001b[49m\u001b[38;5;241;43m=\u001b[39;49m\u001b[43morient\u001b[49m\u001b[43m,\u001b[49m\n\u001b[0;32m    794\u001b[0m \u001b[43m    \u001b[49m\u001b[43mtyp\u001b[49m\u001b[38;5;241;43m=\u001b[39;49m\u001b[43mtyp\u001b[49m\u001b[43m,\u001b[49m\n\u001b[0;32m    795\u001b[0m \u001b[43m    \u001b[49m\u001b[43mdtype\u001b[49m\u001b[38;5;241;43m=\u001b[39;49m\u001b[43mdtype\u001b[49m\u001b[43m,\u001b[49m\n\u001b[0;32m    796\u001b[0m \u001b[43m    \u001b[49m\u001b[43mconvert_axes\u001b[49m\u001b[38;5;241;43m=\u001b[39;49m\u001b[43mconvert_axes\u001b[49m\u001b[43m,\u001b[49m\n\u001b[0;32m    797\u001b[0m \u001b[43m    \u001b[49m\u001b[43mconvert_dates\u001b[49m\u001b[38;5;241;43m=\u001b[39;49m\u001b[43mconvert_dates\u001b[49m\u001b[43m,\u001b[49m\n\u001b[0;32m    798\u001b[0m \u001b[43m    \u001b[49m\u001b[43mkeep_default_dates\u001b[49m\u001b[38;5;241;43m=\u001b[39;49m\u001b[43mkeep_default_dates\u001b[49m\u001b[43m,\u001b[49m\n\u001b[0;32m    799\u001b[0m \u001b[43m    \u001b[49m\u001b[43mprecise_float\u001b[49m\u001b[38;5;241;43m=\u001b[39;49m\u001b[43mprecise_float\u001b[49m\u001b[43m,\u001b[49m\n\u001b[0;32m    800\u001b[0m \u001b[43m    \u001b[49m\u001b[43mdate_unit\u001b[49m\u001b[38;5;241;43m=\u001b[39;49m\u001b[43mdate_unit\u001b[49m\u001b[43m,\u001b[49m\n\u001b[0;32m    801\u001b[0m \u001b[43m    \u001b[49m\u001b[43mencoding\u001b[49m\u001b[38;5;241;43m=\u001b[39;49m\u001b[43mencoding\u001b[49m\u001b[43m,\u001b[49m\n\u001b[0;32m    802\u001b[0m \u001b[43m    \u001b[49m\u001b[43mlines\u001b[49m\u001b[38;5;241;43m=\u001b[39;49m\u001b[43mlines\u001b[49m\u001b[43m,\u001b[49m\n\u001b[0;32m    803\u001b[0m \u001b[43m    \u001b[49m\u001b[43mchunksize\u001b[49m\u001b[38;5;241;43m=\u001b[39;49m\u001b[43mchunksize\u001b[49m\u001b[43m,\u001b[49m\n\u001b[0;32m    804\u001b[0m \u001b[43m    \u001b[49m\u001b[43mcompression\u001b[49m\u001b[38;5;241;43m=\u001b[39;49m\u001b[43mcompression\u001b[49m\u001b[43m,\u001b[49m\n\u001b[0;32m    805\u001b[0m \u001b[43m    \u001b[49m\u001b[43mnrows\u001b[49m\u001b[38;5;241;43m=\u001b[39;49m\u001b[43mnrows\u001b[49m\u001b[43m,\u001b[49m\n\u001b[0;32m    806\u001b[0m \u001b[43m    \u001b[49m\u001b[43mstorage_options\u001b[49m\u001b[38;5;241;43m=\u001b[39;49m\u001b[43mstorage_options\u001b[49m\u001b[43m,\u001b[49m\n\u001b[0;32m    807\u001b[0m \u001b[43m    \u001b[49m\u001b[43mencoding_errors\u001b[49m\u001b[38;5;241;43m=\u001b[39;49m\u001b[43mencoding_errors\u001b[49m\u001b[43m,\u001b[49m\n\u001b[0;32m    808\u001b[0m \u001b[43m    \u001b[49m\u001b[43mdtype_backend\u001b[49m\u001b[38;5;241;43m=\u001b[39;49m\u001b[43mdtype_backend\u001b[49m\u001b[43m,\u001b[49m\n\u001b[0;32m    809\u001b[0m \u001b[43m    \u001b[49m\u001b[43mengine\u001b[49m\u001b[38;5;241;43m=\u001b[39;49m\u001b[43mengine\u001b[49m\u001b[43m,\u001b[49m\n\u001b[0;32m    810\u001b[0m \u001b[43m\u001b[49m\u001b[43m)\u001b[49m\n\u001b[0;32m    812\u001b[0m \u001b[38;5;28;01mif\u001b[39;00m chunksize:\n\u001b[0;32m    813\u001b[0m     \u001b[38;5;28;01mreturn\u001b[39;00m json_reader\n",
      "File \u001b[1;32mc:\\Users\\jiang\\anaconda3\\envs\\cse150b\\lib\\site-packages\\pandas\\io\\json\\_json.py:904\u001b[0m, in \u001b[0;36mJsonReader.__init__\u001b[1;34m(self, filepath_or_buffer, orient, typ, dtype, convert_axes, convert_dates, keep_default_dates, precise_float, date_unit, encoding, lines, chunksize, compression, nrows, storage_options, encoding_errors, dtype_backend, engine)\u001b[0m\n\u001b[0;32m    902\u001b[0m     \u001b[38;5;28mself\u001b[39m\u001b[38;5;241m.\u001b[39mdata \u001b[38;5;241m=\u001b[39m filepath_or_buffer\n\u001b[0;32m    903\u001b[0m \u001b[38;5;28;01melif\u001b[39;00m \u001b[38;5;28mself\u001b[39m\u001b[38;5;241m.\u001b[39mengine \u001b[38;5;241m==\u001b[39m \u001b[38;5;124m\"\u001b[39m\u001b[38;5;124mujson\u001b[39m\u001b[38;5;124m\"\u001b[39m:\n\u001b[1;32m--> 904\u001b[0m     data \u001b[38;5;241m=\u001b[39m \u001b[38;5;28;43mself\u001b[39;49m\u001b[38;5;241;43m.\u001b[39;49m\u001b[43m_get_data_from_filepath\u001b[49m\u001b[43m(\u001b[49m\u001b[43mfilepath_or_buffer\u001b[49m\u001b[43m)\u001b[49m\n\u001b[0;32m    905\u001b[0m     \u001b[38;5;28mself\u001b[39m\u001b[38;5;241m.\u001b[39mdata \u001b[38;5;241m=\u001b[39m \u001b[38;5;28mself\u001b[39m\u001b[38;5;241m.\u001b[39m_preprocess_data(data)\n",
      "File \u001b[1;32mc:\\Users\\jiang\\anaconda3\\envs\\cse150b\\lib\\site-packages\\pandas\\io\\json\\_json.py:960\u001b[0m, in \u001b[0;36mJsonReader._get_data_from_filepath\u001b[1;34m(self, filepath_or_buffer)\u001b[0m\n\u001b[0;32m    952\u001b[0m     filepath_or_buffer \u001b[38;5;241m=\u001b[39m \u001b[38;5;28mself\u001b[39m\u001b[38;5;241m.\u001b[39mhandles\u001b[38;5;241m.\u001b[39mhandle\n\u001b[0;32m    953\u001b[0m \u001b[38;5;28;01melif\u001b[39;00m (\n\u001b[0;32m    954\u001b[0m     \u001b[38;5;28misinstance\u001b[39m(filepath_or_buffer, \u001b[38;5;28mstr\u001b[39m)\n\u001b[0;32m    955\u001b[0m     \u001b[38;5;129;01mand\u001b[39;00m filepath_or_buffer\u001b[38;5;241m.\u001b[39mlower()\u001b[38;5;241m.\u001b[39mendswith(\n\u001b[1;32m   (...)\u001b[0m\n\u001b[0;32m    958\u001b[0m     \u001b[38;5;129;01mand\u001b[39;00m \u001b[38;5;129;01mnot\u001b[39;00m file_exists(filepath_or_buffer)\n\u001b[0;32m    959\u001b[0m ):\n\u001b[1;32m--> 960\u001b[0m     \u001b[38;5;28;01mraise\u001b[39;00m \u001b[38;5;167;01mFileNotFoundError\u001b[39;00m(\u001b[38;5;124mf\u001b[39m\u001b[38;5;124m\"\u001b[39m\u001b[38;5;124mFile \u001b[39m\u001b[38;5;132;01m{\u001b[39;00mfilepath_or_buffer\u001b[38;5;132;01m}\u001b[39;00m\u001b[38;5;124m does not exist\u001b[39m\u001b[38;5;124m\"\u001b[39m)\n\u001b[0;32m    961\u001b[0m \u001b[38;5;28;01melse\u001b[39;00m:\n\u001b[0;32m    962\u001b[0m     warnings\u001b[38;5;241m.\u001b[39mwarn(\n\u001b[0;32m    963\u001b[0m         \u001b[38;5;124m\"\u001b[39m\u001b[38;5;124mPassing literal json to \u001b[39m\u001b[38;5;124m'\u001b[39m\u001b[38;5;124mread_json\u001b[39m\u001b[38;5;124m'\u001b[39m\u001b[38;5;124m is deprecated and \u001b[39m\u001b[38;5;124m\"\u001b[39m\n\u001b[0;32m    964\u001b[0m         \u001b[38;5;124m\"\u001b[39m\u001b[38;5;124mwill be removed in a future version. To read from a \u001b[39m\u001b[38;5;124m\"\u001b[39m\n\u001b[1;32m   (...)\u001b[0m\n\u001b[0;32m    967\u001b[0m         stacklevel\u001b[38;5;241m=\u001b[39mfind_stack_level(),\n\u001b[0;32m    968\u001b[0m     )\n",
      "\u001b[1;31mFileNotFoundError\u001b[0m: File v2_Questions_Train_mscoco/v2_OpenEnded_mscoco_train2014_questions.json does not exist"
     ]
    }
   ],
   "source": [
    "df_q = pd.read_json('data/v2_Questions_Train_mscoco/v2_OpenEnded_mscoco_train2014_questions.json')\n",
    "df_a = pd.read_json('data/v2_Annotations_Train_mscoco/v2_mscoco_train2014_annotations.json')"
   ]
  },
  {
   "cell_type": "code",
   "execution_count": null,
   "metadata": {},
   "outputs": [],
   "source": [
    "df_q.head()"
   ]
  },
  {
   "cell_type": "code",
   "execution_count": null,
   "metadata": {},
   "outputs": [],
   "source": [
    "df_a.head()"
   ]
  },
  {
   "cell_type": "markdown",
   "metadata": {},
   "source": [
    "2. Combine questions and answers and create a new DataFrame according to the image_id and answer_id"
   ]
  },
  {
   "cell_type": "code",
   "execution_count": null,
   "metadata": {},
   "outputs": [],
   "source": [
    "df_QA =  pd.merge(df_q, df_a, on=['question_id','image_id'], how='inner')\n",
    "df_QA.head(15)"
   ]
  },
  {
   "cell_type": "markdown",
   "metadata": {},
   "source": [
    "3. Change mutiple choice answers into a complete sentences"
   ]
  },
  {
   "cell_type": "code",
   "execution_count": null,
   "metadata": {},
   "outputs": [],
   "source": [
    "df_QA['multiple_choice_answer'] = df_QA.apply(lambda col: \"It's \" + col['multiple_choice_answer'] if col['answer_type'] == 'other' else col['multiple_choice_answer'], axis = 1)\n",
    "df_QA['multiple_choice_answer']"
   ]
  },
  {
   "cell_type": "markdown",
   "metadata": {},
   "source": [
    "4. Add tags to indicate system prompt, user questions, and answers from the model"
   ]
  },
  {
   "cell_type": "code",
   "execution_count": null,
   "metadata": {},
   "outputs": [],
   "source": [
    "df_QA['question'] = df_QA['question'].map(lambda x: '<user>' + x+'</user>')\n",
    "df_QA['multiple_choice_answer'] = df_QA['multiple_choice_answer'].map(lambda x: '<assist>' + x+'</assist>')\n",
    "df_QA['system_prompt'] = \"<sys>You are a useful Visual Assitant</sys>\""
   ]
  },
  {
   "cell_type": "markdown",
   "metadata": {},
   "source": [
    "5. Combine system prompt, user questions, and answers into one col and label them with corrsponding image_id\n"
   ]
  },
  {
   "cell_type": "code",
   "execution_count": null,
   "metadata": {},
   "outputs": [],
   "source": [
    "df_QA['prompt'] = df_QA.apply(lambda row: f\"{row['system_prompt']}{row['question']}{row['multiple_choice_answer']}\", axis=1)"
   ]
  },
  {
   "cell_type": "code",
   "execution_count": null,
   "metadata": {},
   "outputs": [],
   "source": [
    "df_final = df_QA[['image_id','prompt']]\n",
    "df_final.head()"
   ]
  },
  {
   "cell_type": "markdown",
   "metadata": {},
   "source": [
    "6. Output the data as csv file"
   ]
  },
  {
   "cell_type": "code",
   "execution_count": null,
   "metadata": {},
   "outputs": [],
   "source": [
    "df_final.to_csv('output.csv', index=False)"
   ]
  }
 ],
 "metadata": {
  "kernelspec": {
   "display_name": "cse150b",
   "language": "python",
   "name": "python3"
  },
  "language_info": {
   "codemirror_mode": {
    "name": "ipython",
    "version": 3
   },
   "file_extension": ".py",
   "mimetype": "text/x-python",
   "name": "python",
   "nbconvert_exporter": "python",
   "pygments_lexer": "ipython3",
   "version": "3.10.14"
  }
 },
 "nbformat": 4,
 "nbformat_minor": 2
}
